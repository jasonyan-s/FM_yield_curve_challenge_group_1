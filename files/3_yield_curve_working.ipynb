{
 "cells": [
  {
   "cell_type": "code",
   "execution_count": null,
   "metadata": {},
   "outputs": [],
   "source": [
    "import importlib\n",
    "import curve_classes_and_functions as yCurve\n",
    "importlib.reload(yCurve)\n",
    "import instrument_classes as inst\n",
    "importlib.reload(inst)\n",
    "import pandas as pd\n",
    "import math"
   ]
  },
  {
   "cell_type": "markdown",
   "metadata": {},
   "source": [
    "### Create a YieldCurve instance\n",
    "Noting that YieldCurve inherits ZeroCurve\n",
    "Add a portfolio of bank bills to the yield curve"
   ]
  },
  {
   "cell_type": "code",
   "execution_count": null,
   "metadata": {},
   "outputs": [],
   "source": [
    "\n",
    "\n",
    "# create a portfolio of two bank_bills\n",
    "bank_bill_1 = inst.Bank_bill(face_value=100, maturity=.25)\n",
    "bank_bill_1.set_ytm(.05)\n",
    "bank_bill_1.set_cash_flows()\n",
    "print(bank_bill_1.get_cash_flows())\n",
    "bank_bill_2 = inst.Bank_bill(face_value=100, maturity=.5)\n",
    "bank_bill_2.set_ytm(.06)\n",
    "bank_bill_2.set_cash_flows()\n",
    "print(bank_bill_2.get_cash_flows())\n",
    "yc_portfolio = inst.Portfolio()\n",
    "yc_portfolio.add_bank_bill(bank_bill_1)\n",
    "yc_portfolio.add_bank_bill(bank_bill_2)\n",
    "# print(yc_portfolio.get_cash_flows())\n",
    "\n",
    "# create a yield curve based on the bank bill portfolio\n",
    "yc=yCurve.YieldCurve()\n",
    "yc.set_constituent_portfolio(yc_portfolio)\n",
    "yc.bootstrap()\n",
    "print(yc.get_zero_curve())\n",
    "\n",
    "# create a bond and add it to the portfolio\n",
    "bond = inst.Bond(face_value=100, maturity=1, coupon=.06, frequency=2)\n",
    "bond.set_ytm(.07)\n",
    "bond.set_cash_flows()\n",
    "print(bond.get_cash_flows())\n",
    "bond2 = inst.Bond(face_value=100, maturity=2, coupon=.08, frequency=1)\n",
    "bond2.set_ytm(.09)\n",
    "bond2.set_cash_flows()\n",
    "print(bond2.get_cash_flows())\n",
    "\n",
    "yc_portfolio.add_bond(bond)\n",
    "yc_portfolio.add_bond(bond2)\n",
    "yc_portfolio.set_cash_flows()\n",
    "print(yc_portfolio.get_cash_flows())\n",
    "\n",
    "yc2=yCurve.YieldCurve()\n",
    "yc2.set_constituent_portfolio(yc_portfolio)\n",
    "yc2.bootstrap()\n",
    "print(yc2.get_zero_curve())\n"
   ]
  }
 ],
 "metadata": {
  "kernelspec": {
   "display_name": "Python 3",
   "language": "python",
   "name": "python3"
  },
  "language_info": {
   "codemirror_mode": {
    "name": "ipython",
    "version": 3
   },
   "file_extension": ".py",
   "mimetype": "text/x-python",
   "name": "python",
   "nbconvert_exporter": "python",
   "pygments_lexer": "ipython3",
   "version": "3.12.1"
  }
 },
 "nbformat": 4,
 "nbformat_minor": 2
}
