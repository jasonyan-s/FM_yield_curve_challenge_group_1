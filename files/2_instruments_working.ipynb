{
 "cells": [
  {
   "cell_type": "markdown",
   "metadata": {},
   "source": [
    "### initialise things"
   ]
  },
  {
   "cell_type": "code",
   "execution_count": null,
   "metadata": {},
   "outputs": [],
   "source": [
    "import importlib\n",
    "import curve_classes_and_functions as zCurve\n",
    "importlib.reload(zCurve)\n",
    "import instrument_classes as inst\n",
    "importlib.reload(inst)\n",
    "import pandas as pd\n",
    "import tabulate as tb"
   ]
  },
  {
   "cell_type": "markdown",
   "metadata": {},
   "source": [
    "### Start by setting up a zero curve for the purposes of running PV calcs on the instruments"
   ]
  },
  {
   "cell_type": "code",
   "execution_count": null,
   "metadata": {},
   "outputs": [],
   "source": [
    "# create an instance of the ZeroCurve class\n",
    "zc = zCurve.ZeroCurve()\n",
    "\n",
    "# add some zero rates to the curve\n",
    "zc.add_zero_rate(1, 0.05)\n",
    "zc.add_zero_rate(2, 0.06)\n",
    "zc.add_zero_rate(3, 0.07)\n"
   ]
  },
  {
   "cell_type": "markdown",
   "metadata": {},
   "source": [
    "### Set up a simple cash_flows object containing to cashflows manually added"
   ]
  },
  {
   "cell_type": "code",
   "execution_count": null,
   "metadata": {},
   "outputs": [],
   "source": [
    "# create an instance of the CashFlows class called my_cash_flows\n",
    "my_cash_flows = inst.CashFlows()\n",
    "\n",
    "# add a cash flow of 1000 at time 1\n",
    "my_cash_flows.add_cash_flow(1, 1000)\n",
    "\n",
    "# add a cash flow of 2000 at time 2\n",
    "my_cash_flows.add_cash_flow(2.5, 1500)\n",
    "\n",
    "print(my_cash_flows.get_cash_flows())\n",
    "print(my_cash_flows.get_maturities())\n",
    "print(my_cash_flows.get_amounts())\n",
    "print(zc.npv(my_cash_flows))\n",
    "\n",
    "# create a new dataframe called cash_flows_df to store the cash flows\n",
    "cash_flows_df = pd.DataFrame(data={'maturity': my_cash_flows.get_maturities(), 'amount': my_cash_flows.get_amounts()})\n",
    "# set the index of the dataframe to be the maturity\n",
    "cash_flows_df.set_index('maturity', inplace=True)\n",
    "cash_flows_df\n",
    "\n",
    "\n",
    "\n"
   ]
  },
  {
   "cell_type": "markdown",
   "metadata": {},
   "source": [
    "### Set up and value a bank_bill"
   ]
  },
  {
   "cell_type": "code",
   "execution_count": null,
   "metadata": {},
   "outputs": [],
   "source": [
    "# create an instance of the bank_bill class called my_bank_bill\n",
    "my_bank_bill = inst.Bank_bill()\n",
    "my_bank_bill.set_ytm(0.06)\n",
    "my_bank_bill.set_cash_flows()\n",
    "\n",
    "bank_bill_cashflows= my_bank_bill.get_cash_flows()\n",
    "print(bank_bill_cashflows)\n",
    "print(zc.npv(my_bank_bill))\n",
    "\n",
    "# create a new dataframe called cash_flows_df to store the cash flows\n",
    "bill_cash_flows_df = pd.DataFrame(data={'Maturity': my_bank_bill.get_maturities(), 'Amount': my_bank_bill.get_amounts()})\n",
    "# set the index of the dataframe to be the maturity\n",
    "bill_cash_flows_df.set_index('Maturity', inplace=True)\n",
    "bill_cash_flows_df"
   ]
  },
  {
   "cell_type": "markdown",
   "metadata": {},
   "source": [
    "### Set up and value a bond"
   ]
  },
  {
   "cell_type": "code",
   "execution_count": null,
   "metadata": {},
   "outputs": [],
   "source": [
    "# create an instance of the bond class called my_bond\n",
    "my_bond = inst.Bond()\n",
    "my_bond.set_maturity(1)\n",
    "my_bond.set_coupon(0.05)\n",
    "my_bond.set_frequency(2)\n",
    "my_bond.set_face_value(100)\n",
    "my_bond.set_ytm(0.05)\n",
    "\n",
    "my_bond.set_cash_flows()\n",
    "bond_cashflows = my_bond.get_cash_flows()\n",
    "print(\"The cashflows of the bond are : \" + str(bond_cashflows))\n",
    "print(\"The PV of the bond is : \" + str(zc.npv(my_bond)))\n",
    "print(\"\")\n",
    "\n",
    "# create a new dataframe called cash_flows_df to store the cash flows\n",
    "bond_cash_flows_df = pd.DataFrame(data={'Maturity': my_bond.get_maturities(), 'Amount': my_bond.get_amounts()})\n",
    "# set the index of the dataframe to be the maturity\n",
    "bond_cash_flows_df.set_index('Maturity', inplace=True)\n",
    "\n",
    "print(\"Here are the cashflows of the bond in a dataframe : \")\n",
    "print(bond_cash_flows_df.to_string())\n",
    "print(\"\")\n",
    "print(\"Here are the cashflows of the bond in a table using the tabulate library: \")\n",
    "print(tb.tabulate(bond_cash_flows_df, headers='keys', tablefmt='psql'))\n",
    "\n",
    "test_price = (my_bond.coupon/my_bond.frequency*my_bond.face_value)*(1-(1+my_bond.ytm/my_bond.frequency)**(-my_bond.maturity*my_bond.frequency))/(my_bond.ytm/my_bond.frequency) \\\n",
    "          + my_bond.face_value/((1 + my_bond.ytm/my_bond.frequency)**(my_bond.maturity*my_bond.frequency))\n",
    "print(test_price)"
   ]
  },
  {
   "cell_type": "markdown",
   "metadata": {},
   "source": [
    "### Set up a portfolio containing some bank bills and bonds\n",
    "The portfolio includes the bond and bill set up above as well as a new one of each."
   ]
  },
  {
   "cell_type": "code",
   "execution_count": null,
   "metadata": {},
   "outputs": [],
   "source": [
    "# create an instance of the portfolio class called my_portfolio\n",
    "my_portfolio = inst.Portfolio()\n",
    "\n",
    "# create another instance of the bond class called my_bond_2\n",
    "my_bond_2 = inst.Bond()\n",
    "my_bond_2.set_maturity(2)\n",
    "my_bond_2.set_coupon(0.08)\n",
    "my_bond_2.set_frequency(4)\n",
    "my_bond_2.set_face_value(1000)\n",
    "my_bond_2.set_ytm(0.04)\n",
    "my_bond_2.set_cash_flows()\n",
    "\n",
    "# add the bonds to the portfolio\n",
    "my_portfolio.add_bond(my_bond_2)\n",
    "my_portfolio.add_bond(my_bond)\n",
    "\n",
    "print(\"The bonds in the portfolio are : \" + str(my_portfolio.get_bonds()))\n",
    "bond_cashflows = my_bond_2.get_cash_flows()\n",
    "print(\"The cashflows of my_bond_2 are : \" + str(bond_cashflows))\n",
    "print(\"The PV of my_bond_2 is : \" + str(zc.npv(my_bond)))\n",
    "print(\"\")\n",
    "\n",
    "# create an instance of the bank_bill class called bank_bill_2\n",
    "bank_bill_2 = inst.Bank_bill()\n",
    "bank_bill_2.set_maturity(.5)\n",
    "bank_bill_2.set_ytm(0.07)\n",
    "bank_bill_2.set_cash_flows()\n",
    "\n",
    "my_portfolio.add_bank_bill(bank_bill_2)\n",
    "my_portfolio.add_bank_bill(my_bank_bill)\n",
    "\n",
    "my_portfolio.set_cash_flows()\n",
    "portfolio_cashflows = my_portfolio.get_cash_flows()\n",
    "print(\"The cashflows of the portfolio are : \")\n",
    "\n",
    "portfolio_cashflows_df = pd.DataFrame(data={'Maturity': my_portfolio.get_maturities(), 'Amount': my_portfolio.get_amounts()})\n",
    "print(portfolio_cashflows_df.to_string())\n",
    "\n",
    "print(\"The PV of the portfolio is : \" + str(zc.npv(my_portfolio)))\n",
    "print(\"\")\n",
    "\n",
    "\n",
    "\n",
    "\n"
   ]
  }
 ],
 "metadata": {
  "kernelspec": {
   "display_name": "Python 3",
   "language": "python",
   "name": "python3"
  },
  "language_info": {
   "codemirror_mode": {
    "name": "ipython",
    "version": 3
   },
   "file_extension": ".py",
   "mimetype": "text/x-python",
   "name": "python",
   "nbconvert_exporter": "python",
   "pygments_lexer": "ipython3",
   "version": "3.12.1"
  }
 },
 "nbformat": 4,
 "nbformat_minor": 2
}
