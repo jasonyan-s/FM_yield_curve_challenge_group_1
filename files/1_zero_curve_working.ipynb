{
 "cells": [
  {
   "cell_type": "markdown",
   "metadata": {},
   "source": [
    "# Zero Curve Construction and Analysis\n",
    "\n",
    "## Overview\n",
    "This notebook demonstrates the construction and manipulation of zero curves, which are fundamental tools in fixed income mathematics and financial engineering. The notebook covers:\n",
    "\n",
    "1. Implementation of exponential interpolation for yield curves\n",
    "2. Working with the ZeroCurve class to:\n",
    "   - Add zero rates to the curve\n",
    "   - Calculate discount factors\n",
    "   - Perform interpolation for missing maturities\n",
    "   - Transform curve data for analysis\n",
    "\n",
    "## Key Concepts\n",
    "- **Zero Rates**: Interest rates for zero-coupon bonds of different maturities\n",
    "- **Discount Factors**: Present values of 1 unit of currency paid at future dates\n",
    "- **Exponential Interpolation**: A method for estimating rates between known points on the curve\n",
    "- **Amount at Maturity (AtMat)**: Future value based on zero rates\n",
    "\n",
    "## Dependencies\n",
    "The notebook uses standard Python libraries for mathematical operations and data manipulation:\n",
    "- math: For basic mathematical operations\n",
    "- numpy: For numerical computations\n",
    "- pandas: For data manipulation and analysis\n",
    "- Custom yield_curve module: Contains ZeroCurve class implementation"
   ]
  },
  {
   "cell_type": "code",
   "execution_count": 6,
   "metadata": {},
   "outputs": [],
   "source": [
    "import math\n",
    "import numpy as np\n",
    "import importlib\n",
    "import pandas as pd"
   ]
  },
  {
   "cell_type": "markdown",
   "metadata": {},
   "source": [
    "# Working with the ZeroCurve Class\n",
    "\n",
    "The following section demonstrates the main functionality of the ZeroCurve class, which provides a complete toolkit for working with zero curves. We'll explore:\n",
    "\n",
    "1. Creating and populating a zero curve\n",
    "2. Calculating various measures (zero rates, discount factors, amounts at maturity)\n",
    "3. Interpolating values for non-standard maturities\n",
    "4. Presenting the curve data in different formats\n",
    "\n",
    "The ZeroCurve class manages internal consistency between different representations of the same curve (zero rates, discount factors, and amounts at maturity) and provides interpolation capabilities for missing points."
   ]
  },
  {
   "cell_type": "code",
   "execution_count": null,
   "metadata": {},
   "outputs": [],
   "source": [
    "import curve_classes_and_functions as zCurve\n",
    "importlib.reload(zCurve)\n",
    "\n",
    "# Create an instance of the ZeroCurve class\n",
    "# This initializes an empty curve ready to accept rate information\n",
    "zc = zCurve.ZeroCurve()\n",
    "\n",
    "# Add zero rates to the curve\n",
    "# These rates represent annual interest rates for zero-coupon bonds\n",
    "zc.add_zero_rate(1, 0.01)  # 1% for 1 year\n",
    "zc.add_zero_rate(2, 0.02)  # 2% for 2 years\n",
    "zc.add_zero_rate(3, 0.03)  # 3% for 3 years\n",
    "zc.add_zero_rate(4, 0.04)  # 4% for 4 years\n",
    "\n",
    "# Demonstrate retrieving zero rates\n",
    "print(\"1-year zero rate:\", zc.get_zero_rate(1))\n",
    "\n",
    "# Calculate and display discount factors\n",
    "# Discount factors represent the present value of 1 unit of currency\n",
    "print(\"1-year discount factor:\", zc.get_discount_factor(1))\n",
    "print(\"2-year discount factor:\", zc.get_discount_factor(2))\n",
    "print(\"3-year discount factor:\", zc.get_discount_factor(3))\n",
    "print(\"4-year discount factor:\", zc.get_discount_factor(4))\n",
    "\n",
    "# Demonstrate interpolation for a non-standard maturity\n",
    "maturity_lookup = 1.5\n",
    "print(f\"Zero rate for {maturity_lookup} years:\", zc.get_zero_rate(maturity_lookup))\n",
    "print(f\"Amount at Maturity for {maturity_lookup} years:\", zc.get_AtMat(maturity_lookup))\n",
    "print(f\"Discount factor for {maturity_lookup} years:\", zc.get_discount_factor(maturity_lookup))\n",
    "\n",
    "# Get the complete zero curve data\n",
    "print(\"Complete zero curve:\", zc.get_zero_curve())\n",
    "\n",
    "# Create a pandas DataFrame for better data visualization and analysis\n",
    "zCurve = np.transpose(zc.get_zero_curve())\n",
    "zc_dataframe = pd.DataFrame(zCurve, columns=['Maturity', 'Discount Factor'])\n",
    "zc_dataframe.set_index('Maturity', inplace=True)\n",
    "print(\"\\nZero Curve DataFrame:\")\n",
    "print(zc_dataframe)\n",
    "zc_dataframe\n"
   ]
  }
 ],
 "metadata": {
  "kernelspec": {
   "display_name": "Python 3",
   "language": "python",
   "name": "python3"
  },
  "language_info": {
   "codemirror_mode": {
    "name": "ipython",
    "version": 3
   },
   "file_extension": ".py",
   "mimetype": "text/x-python",
   "name": "python",
   "nbconvert_exporter": "python",
   "pygments_lexer": "ipython3",
   "version": "3.12.1"
  }
 },
 "nbformat": 4,
 "nbformat_minor": 2
}
